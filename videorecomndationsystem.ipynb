{
  "cells": [
    {
      "cell_type": "markdown",
      "metadata": {
        "id": "view-in-github",
        "colab_type": "text"
      },
      "source": [
        "<a href=\"https://colab.research.google.com/github/swapnaGyabgonda/Video-Recommendation-System/blob/main/videorecomndationsystem.ipynb\" target=\"_parent\"><img src=\"https://colab.research.google.com/assets/colab-badge.svg\" alt=\"Open In Colab\"/></a>"
      ]
    },
    {
      "cell_type": "code",
      "source": [
        "import pandas as pd\n",
        "import numpy as np\n",
        "from sklearn.feature_extraction.text import TfidfVectorizer\n",
        "from sklearn.metrics.pairwise import cosine_similarity"
      ],
      "metadata": {
        "id": "ajn6uQQjk_v4"
      },
      "execution_count": null,
      "outputs": []
    },
    {
      "cell_type": "code",
      "source": [
        "# Upload movie dataset\n",
        "df = pd.read_csv('/content/moviedata.csv')\n",
        "df.head()"
      ],
      "metadata": {
        "colab": {
          "base_uri": "https://localhost:8080/",
          "height": 206
        },
        "id": "mjSBixhlptxa",
        "outputId": "7cb6755c-2a22-4ec3-add7-191100f61903"
      },
      "execution_count": null,
      "outputs": [
        {
          "output_type": "execute_result",
          "data": {
            "text/plain": [
              "         title                                         transcript  \\\n",
              "0    astronomy  astronomy literally meaning the science that s...   \n",
              "1  white dwarf  a white dwarf also called a degenerate dwarf i...   \n",
              "2        chimp  chimpanzees are great apes found across centra...   \n",
              "3       crypto  what are the top four crypto exchanges india w...   \n",
              "4   crypto_tax  india recently introduced crypto tax in the bu...   \n",
              "\n",
              "                                        Preprocessed  \n",
              "0  astronomy literally mean science study law sta...  \n",
              "1  white dwarf also call degenerate dwarf stellar...  \n",
              "2  chimpanzee great ape find across central west ...  \n",
              "3  top four crypto exchange india buy two poker c...  \n",
              "4  india recently introduce crypto tax budget two...  "
            ],
            "text/html": [
              "\n",
              "  <div id=\"df-de5b260e-774f-44b6-b529-0570600a86ff\" class=\"colab-df-container\">\n",
              "    <div>\n",
              "<style scoped>\n",
              "    .dataframe tbody tr th:only-of-type {\n",
              "        vertical-align: middle;\n",
              "    }\n",
              "\n",
              "    .dataframe tbody tr th {\n",
              "        vertical-align: top;\n",
              "    }\n",
              "\n",
              "    .dataframe thead th {\n",
              "        text-align: right;\n",
              "    }\n",
              "</style>\n",
              "<table border=\"1\" class=\"dataframe\">\n",
              "  <thead>\n",
              "    <tr style=\"text-align: right;\">\n",
              "      <th></th>\n",
              "      <th>title</th>\n",
              "      <th>transcript</th>\n",
              "      <th>Preprocessed</th>\n",
              "    </tr>\n",
              "  </thead>\n",
              "  <tbody>\n",
              "    <tr>\n",
              "      <th>0</th>\n",
              "      <td>astronomy</td>\n",
              "      <td>astronomy literally meaning the science that s...</td>\n",
              "      <td>astronomy literally mean science study law sta...</td>\n",
              "    </tr>\n",
              "    <tr>\n",
              "      <th>1</th>\n",
              "      <td>white dwarf</td>\n",
              "      <td>a white dwarf also called a degenerate dwarf i...</td>\n",
              "      <td>white dwarf also call degenerate dwarf stellar...</td>\n",
              "    </tr>\n",
              "    <tr>\n",
              "      <th>2</th>\n",
              "      <td>chimp</td>\n",
              "      <td>chimpanzees are great apes found across centra...</td>\n",
              "      <td>chimpanzee great ape find across central west ...</td>\n",
              "    </tr>\n",
              "    <tr>\n",
              "      <th>3</th>\n",
              "      <td>crypto</td>\n",
              "      <td>what are the top four crypto exchanges india w...</td>\n",
              "      <td>top four crypto exchange india buy two poker c...</td>\n",
              "    </tr>\n",
              "    <tr>\n",
              "      <th>4</th>\n",
              "      <td>crypto_tax</td>\n",
              "      <td>india recently introduced crypto tax in the bu...</td>\n",
              "      <td>india recently introduce crypto tax budget two...</td>\n",
              "    </tr>\n",
              "  </tbody>\n",
              "</table>\n",
              "</div>\n",
              "    <div class=\"colab-df-buttons\">\n",
              "\n",
              "  <div class=\"colab-df-container\">\n",
              "    <button class=\"colab-df-convert\" onclick=\"convertToInteractive('df-de5b260e-774f-44b6-b529-0570600a86ff')\"\n",
              "            title=\"Convert this dataframe to an interactive table.\"\n",
              "            style=\"display:none;\">\n",
              "\n",
              "  <svg xmlns=\"http://www.w3.org/2000/svg\" height=\"24px\" viewBox=\"0 -960 960 960\">\n",
              "    <path d=\"M120-120v-720h720v720H120Zm60-500h600v-160H180v160Zm220 220h160v-160H400v160Zm0 220h160v-160H400v160ZM180-400h160v-160H180v160Zm440 0h160v-160H620v160ZM180-180h160v-160H180v160Zm440 0h160v-160H620v160Z\"/>\n",
              "  </svg>\n",
              "    </button>\n",
              "\n",
              "  <style>\n",
              "    .colab-df-container {\n",
              "      display:flex;\n",
              "      gap: 12px;\n",
              "    }\n",
              "\n",
              "    .colab-df-convert {\n",
              "      background-color: #E8F0FE;\n",
              "      border: none;\n",
              "      border-radius: 50%;\n",
              "      cursor: pointer;\n",
              "      display: none;\n",
              "      fill: #1967D2;\n",
              "      height: 32px;\n",
              "      padding: 0 0 0 0;\n",
              "      width: 32px;\n",
              "    }\n",
              "\n",
              "    .colab-df-convert:hover {\n",
              "      background-color: #E2EBFA;\n",
              "      box-shadow: 0px 1px 2px rgba(60, 64, 67, 0.3), 0px 1px 3px 1px rgba(60, 64, 67, 0.15);\n",
              "      fill: #174EA6;\n",
              "    }\n",
              "\n",
              "    .colab-df-buttons div {\n",
              "      margin-bottom: 4px;\n",
              "    }\n",
              "\n",
              "    [theme=dark] .colab-df-convert {\n",
              "      background-color: #3B4455;\n",
              "      fill: #D2E3FC;\n",
              "    }\n",
              "\n",
              "    [theme=dark] .colab-df-convert:hover {\n",
              "      background-color: #434B5C;\n",
              "      box-shadow: 0px 1px 3px 1px rgba(0, 0, 0, 0.15);\n",
              "      filter: drop-shadow(0px 1px 2px rgba(0, 0, 0, 0.3));\n",
              "      fill: #FFFFFF;\n",
              "    }\n",
              "  </style>\n",
              "\n",
              "    <script>\n",
              "      const buttonEl =\n",
              "        document.querySelector('#df-de5b260e-774f-44b6-b529-0570600a86ff button.colab-df-convert');\n",
              "      buttonEl.style.display =\n",
              "        google.colab.kernel.accessAllowed ? 'block' : 'none';\n",
              "\n",
              "      async function convertToInteractive(key) {\n",
              "        const element = document.querySelector('#df-de5b260e-774f-44b6-b529-0570600a86ff');\n",
              "        const dataTable =\n",
              "          await google.colab.kernel.invokeFunction('convertToInteractive',\n",
              "                                                    [key], {});\n",
              "        if (!dataTable) return;\n",
              "\n",
              "        const docLinkHtml = 'Like what you see? Visit the ' +\n",
              "          '<a target=\"_blank\" href=https://colab.research.google.com/notebooks/data_table.ipynb>data table notebook</a>'\n",
              "          + ' to learn more about interactive tables.';\n",
              "        element.innerHTML = '';\n",
              "        dataTable['output_type'] = 'display_data';\n",
              "        await google.colab.output.renderOutput(dataTable, element);\n",
              "        const docLink = document.createElement('div');\n",
              "        docLink.innerHTML = docLinkHtml;\n",
              "        element.appendChild(docLink);\n",
              "      }\n",
              "    </script>\n",
              "  </div>\n",
              "\n",
              "\n",
              "<div id=\"df-5fdd74c1-f0b2-456e-883d-fe011231b2ee\">\n",
              "  <button class=\"colab-df-quickchart\" onclick=\"quickchart('df-5fdd74c1-f0b2-456e-883d-fe011231b2ee')\"\n",
              "            title=\"Suggest charts\"\n",
              "            style=\"display:none;\">\n",
              "\n",
              "<svg xmlns=\"http://www.w3.org/2000/svg\" height=\"24px\"viewBox=\"0 0 24 24\"\n",
              "     width=\"24px\">\n",
              "    <g>\n",
              "        <path d=\"M19 3H5c-1.1 0-2 .9-2 2v14c0 1.1.9 2 2 2h14c1.1 0 2-.9 2-2V5c0-1.1-.9-2-2-2zM9 17H7v-7h2v7zm4 0h-2V7h2v10zm4 0h-2v-4h2v4z\"/>\n",
              "    </g>\n",
              "</svg>\n",
              "  </button>\n",
              "\n",
              "<style>\n",
              "  .colab-df-quickchart {\n",
              "      --bg-color: #E8F0FE;\n",
              "      --fill-color: #1967D2;\n",
              "      --hover-bg-color: #E2EBFA;\n",
              "      --hover-fill-color: #174EA6;\n",
              "      --disabled-fill-color: #AAA;\n",
              "      --disabled-bg-color: #DDD;\n",
              "  }\n",
              "\n",
              "  [theme=dark] .colab-df-quickchart {\n",
              "      --bg-color: #3B4455;\n",
              "      --fill-color: #D2E3FC;\n",
              "      --hover-bg-color: #434B5C;\n",
              "      --hover-fill-color: #FFFFFF;\n",
              "      --disabled-bg-color: #3B4455;\n",
              "      --disabled-fill-color: #666;\n",
              "  }\n",
              "\n",
              "  .colab-df-quickchart {\n",
              "    background-color: var(--bg-color);\n",
              "    border: none;\n",
              "    border-radius: 50%;\n",
              "    cursor: pointer;\n",
              "    display: none;\n",
              "    fill: var(--fill-color);\n",
              "    height: 32px;\n",
              "    padding: 0;\n",
              "    width: 32px;\n",
              "  }\n",
              "\n",
              "  .colab-df-quickchart:hover {\n",
              "    background-color: var(--hover-bg-color);\n",
              "    box-shadow: 0 1px 2px rgba(60, 64, 67, 0.3), 0 1px 3px 1px rgba(60, 64, 67, 0.15);\n",
              "    fill: var(--button-hover-fill-color);\n",
              "  }\n",
              "\n",
              "  .colab-df-quickchart-complete:disabled,\n",
              "  .colab-df-quickchart-complete:disabled:hover {\n",
              "    background-color: var(--disabled-bg-color);\n",
              "    fill: var(--disabled-fill-color);\n",
              "    box-shadow: none;\n",
              "  }\n",
              "\n",
              "  .colab-df-spinner {\n",
              "    border: 2px solid var(--fill-color);\n",
              "    border-color: transparent;\n",
              "    border-bottom-color: var(--fill-color);\n",
              "    animation:\n",
              "      spin 1s steps(1) infinite;\n",
              "  }\n",
              "\n",
              "  @keyframes spin {\n",
              "    0% {\n",
              "      border-color: transparent;\n",
              "      border-bottom-color: var(--fill-color);\n",
              "      border-left-color: var(--fill-color);\n",
              "    }\n",
              "    20% {\n",
              "      border-color: transparent;\n",
              "      border-left-color: var(--fill-color);\n",
              "      border-top-color: var(--fill-color);\n",
              "    }\n",
              "    30% {\n",
              "      border-color: transparent;\n",
              "      border-left-color: var(--fill-color);\n",
              "      border-top-color: var(--fill-color);\n",
              "      border-right-color: var(--fill-color);\n",
              "    }\n",
              "    40% {\n",
              "      border-color: transparent;\n",
              "      border-right-color: var(--fill-color);\n",
              "      border-top-color: var(--fill-color);\n",
              "    }\n",
              "    60% {\n",
              "      border-color: transparent;\n",
              "      border-right-color: var(--fill-color);\n",
              "    }\n",
              "    80% {\n",
              "      border-color: transparent;\n",
              "      border-right-color: var(--fill-color);\n",
              "      border-bottom-color: var(--fill-color);\n",
              "    }\n",
              "    90% {\n",
              "      border-color: transparent;\n",
              "      border-bottom-color: var(--fill-color);\n",
              "    }\n",
              "  }\n",
              "</style>\n",
              "\n",
              "  <script>\n",
              "    async function quickchart(key) {\n",
              "      const quickchartButtonEl =\n",
              "        document.querySelector('#' + key + ' button');\n",
              "      quickchartButtonEl.disabled = true;  // To prevent multiple clicks.\n",
              "      quickchartButtonEl.classList.add('colab-df-spinner');\n",
              "      try {\n",
              "        const charts = await google.colab.kernel.invokeFunction(\n",
              "            'suggestCharts', [key], {});\n",
              "      } catch (error) {\n",
              "        console.error('Error during call to suggestCharts:', error);\n",
              "      }\n",
              "      quickchartButtonEl.classList.remove('colab-df-spinner');\n",
              "      quickchartButtonEl.classList.add('colab-df-quickchart-complete');\n",
              "    }\n",
              "    (() => {\n",
              "      let quickchartButtonEl =\n",
              "        document.querySelector('#df-5fdd74c1-f0b2-456e-883d-fe011231b2ee button');\n",
              "      quickchartButtonEl.style.display =\n",
              "        google.colab.kernel.accessAllowed ? 'block' : 'none';\n",
              "    })();\n",
              "  </script>\n",
              "</div>\n",
              "\n",
              "    </div>\n",
              "  </div>\n"
            ],
            "application/vnd.google.colaboratory.intrinsic+json": {
              "type": "dataframe",
              "variable_name": "df",
              "summary": "{\n  \"name\": \"df\",\n  \"rows\": 25,\n  \"fields\": [\n    {\n      \"column\": \"title\",\n      \"properties\": {\n        \"dtype\": \"string\",\n        \"num_unique_values\": 25,\n        \"samples\": [\n          \"dodo\",\n          \"mutual_funds\",\n          \"astronomy\"\n        ],\n        \"semantic_type\": \"\",\n        \"description\": \"\"\n      }\n    },\n    {\n      \"column\": \"transcript\",\n      \"properties\": {\n        \"dtype\": \"string\",\n        \"num_unique_values\": 25,\n        \"samples\": [\n          \"the dodo is an extinct flightless bird that was endemic to the island of more vicious which is east of madagascar in the indian ocean the closest living relative of the dodo is the nicobar pigeon sub fossil remains show the dodo was about one meter dull and may have weighed ten point six to seventeen point five kilogram alms in the wild the dodo's appearance in life is evidenced only by drawings paintings and written accounts from the seventeenth century since these portraits vary considerably and since only some of the illustrations are known to have been drawn from live specimens the dodo's exact appearance in life for me maine's unresolved and little is known about it's behavior it has been depicted with brownish grey plumage yellow feet a tuft of tail feathers a grey naked head and a black yellow and green beak it used gizzard stones to help digest it's food which is thought to have included fruits and it's main habitat is believed to have been the woods in the dryer coastal areas of mauritius one account states it's clutch consisted of a single egg it is presumed that the dodo became flightless because of the ready availability of abundant food sources and a relative absence of predators on more riches the extinction of of the dodo within less than a century of it's discovery called attention to the previously unrecognized problem of human involvement in the disappearance of entire species in addition to fallen fruits the dodo probably subsisted on nuts seeds bulbs and roots it has also been suggested that the dough odo might have eaten crabs and shellfish like their relatives the crowned pigeons \",\n          \"my name is metro for safe microphones are markedly instrument which invest in equity or cootie related securities that are money related market instruments the net asset value anyway of mutual fund scheme depends on the market price of underlying securities and it's pulled for you based on the securities can go up or down depending on the market movement hence you see the disclaimer mutual funds are subject to market risk and friendly picture our deceive investors who have invested only in traditional fixed income investments like bank fixed deposits post over small saving schemes etc often have two versions when they invest first in mutual funds how much return will they get is it safe to inverse in metro phones it is very important for the investors to understand the following mature for to not give a short returns even if a mutual fund scheme is paying regular dividends dividend paid by major funds are not assured the asset management company aims he can che change the dividend belgrade or can even stop being detained for a period of time as deemed fit by mt based on market conditions there is no guarantee of capital production major phones he should be prepared to take some risk when investing in mutual funds but if you understand the risk and make informed investment decisions based on your risk appetite and financial objectives mutual funds can provide investment solutions for a wide spectrum of risk appetite and investment neat in this article we will try to understand the risk and mutual funds investing and discuss as much of unsafe risk and agree funds these are three kinds of risk and equity mutual funds they are as follows market risk is also known as systematic years this is a risk which affect the entire stock market it can be caused by events which may affect the entire economy investment cycles common policies rba actions global events example overnight in bundaberg global financial crisis nine eleven terrorist attack in new york etc mortgages can cause volatility in a mutual fund investment some categories of mutual funds mid cap fund small cap funds are affected more by market volatility as compared to other categories that is large gap you should invest according to your risk appetite without thinking how safe is mutual funds asymmetric risk this is the risk which impacts only a particular stock or sector major funds aim to diversify unsystematic risk but there may be still be some unsystematic risk in actively managed funds because fund managers may be overweight underweight on some stock sector thus in order to beat the market benchmark index that is great advice for investors if you want to avoid unsystematic risks then you may invest in idiots an index fund which jack market indexes data subject to market risk however investors should understand unsystematic risk is not necessary really matters because it can help fund managers gives superior returns over a sufficiently long investment horizon great advice for investors you should invest according to your risk appetite and investment needs without worrying about is it safe to invest in mutual funds now or not liquidity risk this can arise due to inability of the fund manager to sell the underlying securities of scheme when the need arises that is redemption pressures if there are not sufficient buyers due to prevailing market conditions example very high volatility beer market etc a foreign manager may be unable to sell securities in extreme market conditions the mc may stop redemption and certain mutual fund schemes liquidity risk and equity funds back some market segment example small cap funds compared to more liquid segment example large gaps\",\n          \"astronomy literally meaning the science that studies the laws of the stars is a natural science that studies celestial objects and phenomena it uses mathematics physics and chemistry in order to explain their origin and evolution objects of interest include planets moons stars nebulae galaxies and comments relevant phenomena include supernova explosions gamma ray bursts quays ours blazers pulsars and cosmic microwave background radiation more generally astronomy studies everything that originates beyond earth's atmosphere cosmology as a branch of astronomy that studies the universe as a whole during the renaissance nicolaus copernicus proposed a heliocentric model of the solar system his work was defended by galileo galilei and expanded upon by johannes kepler kepler was the first to devise a system that correctly described the details of the motion of the plan minutes surround the sun however kepler did not succeed in formulating a theory behind the laws he wrote down one of the oldest fields in astronomy and in all of science is the measurement of the positions of celestial objects historically accurate knowledge of the positions of the sun moon planets and stars has been essential in celestial navigation the use of celestial objects to guide navigation and in the making of calendars theorists and astronomy endeavored to create theoretical models and from the results predict observational consequences of those models the observation of a phenomenon predicted by model allows astronomers to see select between several alternate or conflicting models as the one best able to describe the phenomenon what is the origin of the stellar mass spectrum that is why do astronomers observe the same distribution of stellar masses the initial mass function apparently regardless of the initial conditions a deeper understanding of the formation of stars and planets is needed amateur astronomers continue to make scientific contributions to the field of astronomy and it is one of the few scientific disciplines where amateurs can still make significant contributions\"\n        ],\n        \"semantic_type\": \"\",\n        \"description\": \"\"\n      }\n    },\n    {\n      \"column\": \"Preprocessed\",\n      \"properties\": {\n        \"dtype\": \"string\",\n        \"num_unique_values\": 25,\n        \"samples\": [\n          \"todo extinct flightless bird endemic island vicious east madagascar indian ocean close live relative todo nicolas pigeon sub fossil remain show todo one meter dull may weigh ten point six seventeen point five kilogram alm wild todo appearance life evidence drawing painting write account seventeenth century since portrait vary considerably since illustration know draw live specimen todo exact appearance life maine unresolve little know behavior depict brownish grey plumage yellow foot cuft tail feather grey naked head black yellow green beak use wizard stone help digest food think include fruit main habitat believe wood dryer coastal area mauritius one account state clutch consist single egg presume todo become flightless ready availability abundant food source relative absence predator riche extinction todo within less century discovery call attention previously unrecognized problem human involvement disappearance entire specie addition fall fruit todo probably submit nuts seed bulb root also suggest dough do may eaten crabs shellfish like relative crown pigeon\",\n          \"name metro safe microphones markedly instrument invest equity cookie relate security money related market instrument net asset value anyway mutual fund scheme depend market price underlie security pull base security go depend market movement hence see disclaimer mutual fund subject market risk friendly picture deceive investor invest traditional fix income investment like bank fix deposit post small saving scheme etc often two version invest first mutual fund much return get safe inverse metro phone important investor understand follow mature not give short return even mutual fund scheme pay regular dividend dividend pay major fund not assure asset management company aim che change dividend degrade even stop detain period time deemed fit mt base market condition guarantee capital production major phone prepare take risk invest mutual fund understand risk make informed investment decision base risk appetite financial objective mutual fund provide investment solution wide spectrum risk appetite investment neat article try understand risk mutual fund invest discuss much unsafe risk agree fund three kind risk equity mutual fund follow market risk also know systematic year risk affect entire stock market cause event may affect entire economy investment cycle common policy ra action global event example overnight bundaberg global financial crisis nine eleven terrorist attack new york etc mortgages cause volatility mutual fund investment category mutual fund mid cap fund small cap fund affect market volatility compare category large gap invest accord risk appetite without think safe mutual fund asymmetric risk risk impact particular stock sector major fund aim diversify systematic risk may still systematic risk actively manage fund fund manager may overweight underweight stock sector thus order beat market benchmark index great advice investor want avoid systematic risk may invest idiot index fund jack market indexes data subject market risk however investor understand systematic risk not necessary really matter help fund manager give superior return sufficiently long investment horizon great advice investor invest accord risk appetite investment need without worry safe invest mutual fund not liquidity risk arise due inability fund manager sell underlie security scheme need arise redemption pressure not sufficient buyer due prevail market condition example high volatility beer market etc foreign manager may unable sell securities extreme market condition mc may stop redemption certain mutual fund scheme liquidity risk equity fund back market segment example small cap fund compare liquid segment example large gap\",\n          \"astronomy literally mean science study law star natural science study celestial object phenomena use mathematic physics chemistry order explain origin evolution object interest include planet moon stars nebula galaxie comment relevant phenomenon include supernova explosion gamma ray burst quay blazer pillars cosmic microwave background radiation generally astronomy study everything originate beyond earth atmosphere cosmology branch astronomy studies universe whole renaissance nicolas copernicus propose heliocentric model solar system work defend galileo galileo expand upon johannes helper helper first devise system correctly describe detail motion plan minute surround sun however helper not succeed formulate theory behind law write one old field astronomy science measurement position celestial object historically accurate knowledge position sun moon planet star essential celestial navigation use celestial object guide navigation make calendars theorist astronomy endeavor create theoretical model result predict observational consequence model observation phenomenon predict model allow astronomer see select several alternate conflict model one good able describe phenomenon origin stellar mass spectrum astronomer observe distribution stellar mass initial mass function apparently regardless initial condition deep understanding formation star planet need amateur astronomer continue make scientific contribution field astronomy one scientific discipline amateur still make significant contribution\"\n        ],\n        \"semantic_type\": \"\",\n        \"description\": \"\"\n      }\n    }\n  ]\n}"
            }
          },
          "metadata": {},
          "execution_count": 3
        }
      ]
    },
    {
      "cell_type": "code",
      "source": [
        "df.columns"
      ],
      "metadata": {
        "colab": {
          "base_uri": "https://localhost:8080/"
        },
        "id": "neJbjA1up1Q9",
        "outputId": "23e43afb-116f-4a9f-ff18-0cef5455753c"
      },
      "execution_count": null,
      "outputs": [
        {
          "output_type": "execute_result",
          "data": {
            "text/plain": [
              "Index(['title', 'transcript', 'Preprocessed'], dtype='object')"
            ]
          },
          "metadata": {},
          "execution_count": 10
        }
      ]
    },
    {
      "cell_type": "code",
      "source": [
        "df.isnull().sum()"
      ],
      "metadata": {
        "colab": {
          "base_uri": "https://localhost:8080/",
          "height": 178
        },
        "id": "TtCSir8grGv6",
        "outputId": "a08878ac-96e5-4c8e-ee67-65d880167a48"
      },
      "execution_count": null,
      "outputs": [
        {
          "output_type": "execute_result",
          "data": {
            "text/plain": [
              "title           0\n",
              "transcript      0\n",
              "Preprocessed    0\n",
              "dtype: int64"
            ],
            "text/html": [
              "<div>\n",
              "<style scoped>\n",
              "    .dataframe tbody tr th:only-of-type {\n",
              "        vertical-align: middle;\n",
              "    }\n",
              "\n",
              "    .dataframe tbody tr th {\n",
              "        vertical-align: top;\n",
              "    }\n",
              "\n",
              "    .dataframe thead th {\n",
              "        text-align: right;\n",
              "    }\n",
              "</style>\n",
              "<table border=\"1\" class=\"dataframe\">\n",
              "  <thead>\n",
              "    <tr style=\"text-align: right;\">\n",
              "      <th></th>\n",
              "      <th>0</th>\n",
              "    </tr>\n",
              "  </thead>\n",
              "  <tbody>\n",
              "    <tr>\n",
              "      <th>title</th>\n",
              "      <td>0</td>\n",
              "    </tr>\n",
              "    <tr>\n",
              "      <th>transcript</th>\n",
              "      <td>0</td>\n",
              "    </tr>\n",
              "    <tr>\n",
              "      <th>Preprocessed</th>\n",
              "      <td>0</td>\n",
              "    </tr>\n",
              "  </tbody>\n",
              "</table>\n",
              "</div><br><label><b>dtype:</b> int64</label>"
            ]
          },
          "metadata": {},
          "execution_count": 11
        }
      ]
    },
    {
      "cell_type": "code",
      "source": [
        "df.drop_duplicates(inplace=True)"
      ],
      "metadata": {
        "id": "mZ8RWMNSre1F"
      },
      "execution_count": null,
      "outputs": []
    },
    {
      "cell_type": "code",
      "source": [
        "df['Preprocessed'] = df['Preprocessed'].str.lower()"
      ],
      "metadata": {
        "id": "Ma_V_FaBriP2"
      },
      "execution_count": null,
      "outputs": []
    },
    {
      "cell_type": "code",
      "source": [
        "import re\n",
        "df['Preprocessed'] = df['Preprocessed'].apply(lambda x: re.sub(r'[^\\w\\s]', '', x))"
      ],
      "metadata": {
        "id": "jgsDAwXvrtF3"
      },
      "execution_count": null,
      "outputs": []
    },
    {
      "cell_type": "code",
      "source": [
        "import nltk\n",
        "from nltk.corpus import stopwords\n",
        "nltk.download('stopwords')\n",
        "stop_words = set(stopwords.words('english'))\n",
        "\n",
        "df['Preprocessed'] = df['Preprocessed'].apply(lambda x: ' '.join([word for word in x.split() if word not in stop_words]))"
      ],
      "metadata": {
        "colab": {
          "base_uri": "https://localhost:8080/"
        },
        "id": "9xvzqxVOrvJ5",
        "outputId": "9f661dbe-573a-4148-bc32-51b54abb95ae"
      },
      "execution_count": null,
      "outputs": [
        {
          "output_type": "stream",
          "name": "stderr",
          "text": [
            "[nltk_data] Downloading package stopwords to /root/nltk_data...\n",
            "[nltk_data]   Unzipping corpora/stopwords.zip.\n"
          ]
        }
      ]
    },
    {
      "cell_type": "code",
      "source": [
        "from sklearn.feature_extraction.text import TfidfVectorizer\n",
        "\n",
        "tfidf = TfidfVectorizer(stop_words='english')\n",
        "tfidf_matrix = tfidf.fit_transform(df['Preprocessed'])"
      ],
      "metadata": {
        "id": "vTHlPK5VsFbi"
      },
      "execution_count": null,
      "outputs": []
    },
    {
      "cell_type": "code",
      "source": [
        "from sklearn.metrics.pairwise import cosine_similarity\n",
        "\n",
        "cosine_sim = cosine_similarity(tfidf_matrix, tfidf_matrix)"
      ],
      "metadata": {
        "id": "d2ANCdZZr64s"
      },
      "execution_count": null,
      "outputs": []
    },
    {
      "cell_type": "code",
      "source": [
        "def get_recommendations(title, df, cosine_sim):\n",
        "    idx = df[df['title'] == title].index[0]  # Get index of the movie\n",
        "    sim_scores = list(enumerate(cosine_sim[idx]))  # Similarity scores\n",
        "    sim_scores = sorted(sim_scores, key=lambda x: x[1], reverse=True)  # Sort by score\n",
        "    sim_scores = sim_scores[1:6]  # Top 5 recommendations\n",
        "    movie_indices = [i[0] for i in sim_scores]\n",
        "    return df['title'].iloc[movie_indices]"
      ],
      "metadata": {
        "id": "izO-T6ftstS3"
      },
      "execution_count": null,
      "outputs": []
    },
    {
      "cell_type": "code",
      "source": [
        "print(df['title'].unique())"
      ],
      "metadata": {
        "colab": {
          "base_uri": "https://localhost:8080/"
        },
        "id": "oHjWSpsDtQMR",
        "outputId": "cebd5021-2e31-43b8-d8ef-de38bcbec317"
      },
      "execution_count": null,
      "outputs": [
        {
          "output_type": "stream",
          "name": "stdout",
          "text": [
            "['astronomy' 'white dwarf' 'chimp' 'crypto' 'crypto_tax' 'crypto_means'\n",
            " 'digital_token' 'cryptocurrency' 'dodo' 'dolphin' 'elephant'\n",
            " 'fd_mutual_finance' 'finance' 'jeffrey_archer' 'mammoth' 'murakami'\n",
            " 'mutual_funds' 'paulo_coelho' 'penguin' 'animal_farm' 'shakespeare'\n",
            " 'snow_bunting' 'super_nova' 'vaccine_news' 'whale']\n"
          ]
        }
      ]
    },
    {
      "cell_type": "code",
      "source": [
        "get_recommendations('dodo', df, cosine_sim)"
      ],
      "metadata": {
        "colab": {
          "base_uri": "https://localhost:8080/",
          "height": 241
        },
        "id": "IRkSlDJKtaq6",
        "outputId": "58c9cb06-1de5-46a4-a310-aed21a7dbc49"
      },
      "execution_count": null,
      "outputs": [
        {
          "output_type": "execute_result",
          "data": {
            "text/plain": [
              "18     penguin\n",
              "14     mammoth\n",
              "2        chimp\n",
              "9      dolphin\n",
              "10    elephant\n",
              "Name: title, dtype: object"
            ],
            "text/html": [
              "<div>\n",
              "<style scoped>\n",
              "    .dataframe tbody tr th:only-of-type {\n",
              "        vertical-align: middle;\n",
              "    }\n",
              "\n",
              "    .dataframe tbody tr th {\n",
              "        vertical-align: top;\n",
              "    }\n",
              "\n",
              "    .dataframe thead th {\n",
              "        text-align: right;\n",
              "    }\n",
              "</style>\n",
              "<table border=\"1\" class=\"dataframe\">\n",
              "  <thead>\n",
              "    <tr style=\"text-align: right;\">\n",
              "      <th></th>\n",
              "      <th>title</th>\n",
              "    </tr>\n",
              "  </thead>\n",
              "  <tbody>\n",
              "    <tr>\n",
              "      <th>18</th>\n",
              "      <td>penguin</td>\n",
              "    </tr>\n",
              "    <tr>\n",
              "      <th>14</th>\n",
              "      <td>mammoth</td>\n",
              "    </tr>\n",
              "    <tr>\n",
              "      <th>2</th>\n",
              "      <td>chimp</td>\n",
              "    </tr>\n",
              "    <tr>\n",
              "      <th>9</th>\n",
              "      <td>dolphin</td>\n",
              "    </tr>\n",
              "    <tr>\n",
              "      <th>10</th>\n",
              "      <td>elephant</td>\n",
              "    </tr>\n",
              "  </tbody>\n",
              "</table>\n",
              "</div><br><label><b>dtype:</b> object</label>"
            ]
          },
          "metadata": {},
          "execution_count": 22
        }
      ]
    },
    {
      "cell_type": "code",
      "source": [
        "!pip install Flask"
      ],
      "metadata": {
        "colab": {
          "base_uri": "https://localhost:8080/"
        },
        "id": "8XwFn9GntzBy",
        "outputId": "06a539b9-5d11-4d08-d69f-4b866c79179d"
      },
      "execution_count": null,
      "outputs": [
        {
          "output_type": "stream",
          "name": "stdout",
          "text": [
            "Requirement already satisfied: Flask in /usr/local/lib/python3.11/dist-packages (3.1.0)\n",
            "Requirement already satisfied: Werkzeug>=3.1 in /usr/local/lib/python3.11/dist-packages (from Flask) (3.1.3)\n",
            "Requirement already satisfied: Jinja2>=3.1.2 in /usr/local/lib/python3.11/dist-packages (from Flask) (3.1.5)\n",
            "Requirement already satisfied: itsdangerous>=2.2 in /usr/local/lib/python3.11/dist-packages (from Flask) (2.2.0)\n",
            "Requirement already satisfied: click>=8.1.3 in /usr/local/lib/python3.11/dist-packages (from Flask) (8.1.8)\n",
            "Requirement already satisfied: blinker>=1.9 in /usr/local/lib/python3.11/dist-packages (from Flask) (1.9.0)\n",
            "Requirement already satisfied: MarkupSafe>=2.0 in /usr/local/lib/python3.11/dist-packages (from Jinja2>=3.1.2->Flask) (3.0.2)\n"
          ]
        }
      ]
    },
    {
      "cell_type": "code",
      "source": [
        "from flask import Flask, request, jsonify\n",
        "import pandas as pd\n",
        "import pickle\n",
        "\n",
        "app = Flask(__name__)\n",
        "\n",
        "# Load your preprocessed data and model\n",
        "df = pd.read_csv('/content/moviedata.csv')\n",
        "cosine_sim = pickle.load(open('cosine_similarity.pkl', 'rb'))\n",
        "\n",
        "def get_recommendations(title, df, cosine_sim):\n",
        "    idx = df[df['title'] == title].index[0]\n",
        "    sim_scores = list(enumerate(cosine_sim[idx]))\n",
        "    sim_scores = sorted(sim_scores, key=lambda x: x[1], reverse=True)\n",
        "    sim_scores = sim_scores[1:6]\n",
        "    movie_indices = [i[0] for i in sim_scores]\n",
        "    return df['title'].iloc[movie_indices].tolist()\n",
        "\n",
        "@app.route('/recommend', methods=['GET'])\n",
        "def recommend():\n",
        "    title = request.args.get('title')\n",
        "    if title not in df['title'].values:\n",
        "        return jsonify({'error': 'Title not found'})\n",
        "\n",
        "    recommendations = get_recommendations(title, df, cosine_sim)\n",
        "    return jsonify({'Recommendations': recommendations})\n",
        "\n",
        "if __name__ == '__main__':\n",
        "    app.run(debug=True)"
      ],
      "metadata": {
        "colab": {
          "base_uri": "https://localhost:8080/",
          "height": 216
        },
        "id": "DptXqDi6t9DN",
        "outputId": "43ea660a-9f26-4f14-db1d-eb49d3113076"
      },
      "execution_count": null,
      "outputs": [
        {
          "output_type": "error",
          "ename": "FileNotFoundError",
          "evalue": "[Errno 2] No such file or directory: 'cosine_similarity.pkl'",
          "traceback": [
            "\u001b[0;31m---------------------------------------------------------------------------\u001b[0m",
            "\u001b[0;31mFileNotFoundError\u001b[0m                         Traceback (most recent call last)",
            "\u001b[0;32m<ipython-input-25-137e40a27867>\u001b[0m in \u001b[0;36m<cell line: 0>\u001b[0;34m()\u001b[0m\n\u001b[1;32m      7\u001b[0m \u001b[0;31m# Load your preprocessed data and model\u001b[0m\u001b[0;34m\u001b[0m\u001b[0;34m\u001b[0m\u001b[0m\n\u001b[1;32m      8\u001b[0m \u001b[0mdf\u001b[0m \u001b[0;34m=\u001b[0m \u001b[0mpd\u001b[0m\u001b[0;34m.\u001b[0m\u001b[0mread_csv\u001b[0m\u001b[0;34m(\u001b[0m\u001b[0;34m'/content/moviedata.csv'\u001b[0m\u001b[0;34m)\u001b[0m\u001b[0;34m\u001b[0m\u001b[0;34m\u001b[0m\u001b[0m\n\u001b[0;32m----> 9\u001b[0;31m \u001b[0mcosine_sim\u001b[0m \u001b[0;34m=\u001b[0m \u001b[0mpickle\u001b[0m\u001b[0;34m.\u001b[0m\u001b[0mload\u001b[0m\u001b[0;34m(\u001b[0m\u001b[0mopen\u001b[0m\u001b[0;34m(\u001b[0m\u001b[0;34m'cosine_similarity.pkl'\u001b[0m\u001b[0;34m,\u001b[0m \u001b[0;34m'rb'\u001b[0m\u001b[0;34m)\u001b[0m\u001b[0;34m)\u001b[0m\u001b[0;34m\u001b[0m\u001b[0;34m\u001b[0m\u001b[0m\n\u001b[0m\u001b[1;32m     10\u001b[0m \u001b[0;34m\u001b[0m\u001b[0m\n\u001b[1;32m     11\u001b[0m \u001b[0;32mdef\u001b[0m \u001b[0mget_recommendations\u001b[0m\u001b[0;34m(\u001b[0m\u001b[0mtitle\u001b[0m\u001b[0;34m,\u001b[0m \u001b[0mdf\u001b[0m\u001b[0;34m,\u001b[0m \u001b[0mcosine_sim\u001b[0m\u001b[0;34m)\u001b[0m\u001b[0;34m:\u001b[0m\u001b[0;34m\u001b[0m\u001b[0;34m\u001b[0m\u001b[0m\n",
            "\u001b[0;31mFileNotFoundError\u001b[0m: [Errno 2] No such file or directory: 'cosine_similarity.pkl'"
          ]
        }
      ]
    },
    {
      "cell_type": "code",
      "source": [
        "import pickle\n",
        "from sklearn.metrics.pairwise import cosine_similarity\n",
        "import pandas as pd\n",
        "from sklearn.feature_extraction.text import TfidfVectorizer\n",
        "\n",
        "# Apply TF-IDF Vectorization\n",
        "tfidf = TfidfVectorizer(stop_words='english')\n",
        "tfidf_matrix = tfidf.fit_transform(df['Preprocessed'])\n",
        "\n",
        "# Calculate Cosine Similarity\n",
        "cosine_sim = cosine_similarity(tfidf_matrix, tfidf_matrix)\n",
        "\n",
        "# Save model using pickle\n",
        "pickle.dump(cosine_sim, open('cosine_similarity.pkl', 'wb'))"
      ],
      "metadata": {
        "id": "qZy81We1u304"
      },
      "execution_count": null,
      "outputs": []
    },
    {
      "cell_type": "code",
      "source": [
        "cosine_sim = pickle.load(open('/content/cosine_similarity.pkl', 'rb'))"
      ],
      "metadata": {
        "id": "hMcNurlcvHst"
      },
      "execution_count": null,
      "outputs": []
    },
    {
      "cell_type": "code",
      "source": [
        "from flask import Flask, request, jsonify\n",
        "import pandas as pd\n",
        "import pickle\n",
        "\n",
        "app = Flask(__name__)\n",
        "\n",
        "# Load data and model\n",
        "df = pd.read_csv('/content/moviedata.csv')\n",
        "cosine_sim = pickle.load(open('/content/cosine_similarity.pkl', 'rb'))\n",
        "\n",
        "@app.route('/recommend', methods=['GET'])\n",
        "def recommend():\n",
        "    title = request.args.get('title')\n",
        "    if title not in df['title'].values:\n",
        "        return jsonify({'error': 'Title not found'})\n",
        "\n",
        "    recommendations = get_recommendations(title, df, cosine_sim)\n",
        "    return jsonify({'Recommendations': recommendations})\n",
        "\n",
        "if __name__ == '__main__':\n",
        "    app.run(debug=True)"
      ],
      "metadata": {
        "colab": {
          "base_uri": "https://localhost:8080/"
        },
        "id": "vp_-iUU7vaHY",
        "outputId": "9d3f31c3-0d00-451b-9f89-70c001934e9c"
      },
      "execution_count": null,
      "outputs": [
        {
          "output_type": "stream",
          "name": "stdout",
          "text": [
            " * Serving Flask app '__main__'\n",
            " * Debug mode: on\n"
          ]
        },
        {
          "output_type": "stream",
          "name": "stderr",
          "text": [
            "INFO:werkzeug:\u001b[31m\u001b[1mWARNING: This is a development server. Do not use it in a production deployment. Use a production WSGI server instead.\u001b[0m\n",
            " * Running on http://127.0.0.1:5000\n",
            "INFO:werkzeug:\u001b[33mPress CTRL+C to quit\u001b[0m\n",
            "INFO:werkzeug: * Restarting with stat\n"
          ]
        }
      ]
    },
    {
      "cell_type": "code",
      "source": [
        "!pip install pyngrok\n",
        "from pyngrok import ngrok"
      ],
      "metadata": {
        "colab": {
          "base_uri": "https://localhost:8080/"
        },
        "id": "lKIuTuivxVl_",
        "outputId": "5e37b1de-57e0-44af-f9c5-c7bbd3e17398"
      },
      "execution_count": null,
      "outputs": [
        {
          "output_type": "stream",
          "name": "stdout",
          "text": [
            "Collecting pyngrok\n",
            "  Downloading pyngrok-7.2.3-py3-none-any.whl.metadata (8.7 kB)\n",
            "Requirement already satisfied: PyYAML>=5.1 in /usr/local/lib/python3.11/dist-packages (from pyngrok) (6.0.2)\n",
            "Downloading pyngrok-7.2.3-py3-none-any.whl (23 kB)\n",
            "Installing collected packages: pyngrok\n",
            "Successfully installed pyngrok-7.2.3\n"
          ]
        }
      ]
    },
    {
      "cell_type": "code",
      "source": [
        "# Import Libraries\n",
        "from flask import Flask, request, jsonify\n",
        "import pandas as pd\n",
        "import pickle\n",
        "from pyngrok import ngrok\n",
        "\n",
        "# App Initialization\n",
        "app = Flask(__name__)\n",
        "\n",
        "# Load Model\n",
        "movies = pickle.load(open('movies.pkl', 'rb'))\n",
        "similarity = pickle.load(open('similarity.pkl', 'rb'))\n",
        "\n",
        "@app.route('/')\n",
        "def home():\n",
        "    return \"Hello Swapna 🎯 Movie Recommendation API is Running\"\n",
        "\n",
        "@app.route('/recommend', methods=['GET'])\n",
        "def recommend():\n",
        "    movie = request.args.get('title')\n",
        "    if movie not in movies['title'].values:\n",
        "        return jsonify({\"error\": \"Movie not found\"})\n",
        "\n",
        "    index = movies[movies['title'] == movie].index[0]\n",
        "    distances = sorted(list(enumerate(similarity[index])), reverse=True, key=lambda x: x[1])\n",
        "    recommendations = []\n",
        "    for i in distances[1:6]:\n",
        "        recommendations.append(movies.iloc[i[0]].title)\n",
        "\n",
        "    return jsonify(recommendations)\n",
        "\n",
        "# Ngrok Tunnel\n",
        "public_url = ngrok.connect(5000)\n",
        "print(\"Public URL:\", public_url)\n",
        "app.run(debug=True, use_reloader=False)"
      ],
      "metadata": {
        "colab": {
          "base_uri": "https://localhost:8080/",
          "height": 216
        },
        "id": "kA6k-EPWNgqk",
        "outputId": "72562335-0d8f-4a3a-e83e-a0e6d23cd681"
      },
      "execution_count": null,
      "outputs": [
        {
          "output_type": "error",
          "ename": "FileNotFoundError",
          "evalue": "[Errno 2] No such file or directory: 'movies.pkl'",
          "traceback": [
            "\u001b[0;31m---------------------------------------------------------------------------\u001b[0m",
            "\u001b[0;31mFileNotFoundError\u001b[0m                         Traceback (most recent call last)",
            "\u001b[0;32m<ipython-input-9-8f9190678213>\u001b[0m in \u001b[0;36m<cell line: 0>\u001b[0;34m()\u001b[0m\n\u001b[1;32m      9\u001b[0m \u001b[0;34m\u001b[0m\u001b[0m\n\u001b[1;32m     10\u001b[0m \u001b[0;31m# Load Model\u001b[0m\u001b[0;34m\u001b[0m\u001b[0;34m\u001b[0m\u001b[0m\n\u001b[0;32m---> 11\u001b[0;31m \u001b[0mmovies\u001b[0m \u001b[0;34m=\u001b[0m \u001b[0mpickle\u001b[0m\u001b[0;34m.\u001b[0m\u001b[0mload\u001b[0m\u001b[0;34m(\u001b[0m\u001b[0mopen\u001b[0m\u001b[0;34m(\u001b[0m\u001b[0;34m'movies.pkl'\u001b[0m\u001b[0;34m,\u001b[0m \u001b[0;34m'rb'\u001b[0m\u001b[0;34m)\u001b[0m\u001b[0;34m)\u001b[0m\u001b[0;34m\u001b[0m\u001b[0;34m\u001b[0m\u001b[0m\n\u001b[0m\u001b[1;32m     12\u001b[0m \u001b[0msimilarity\u001b[0m \u001b[0;34m=\u001b[0m \u001b[0mpickle\u001b[0m\u001b[0;34m.\u001b[0m\u001b[0mload\u001b[0m\u001b[0;34m(\u001b[0m\u001b[0mopen\u001b[0m\u001b[0;34m(\u001b[0m\u001b[0;34m'similarity.pkl'\u001b[0m\u001b[0;34m,\u001b[0m \u001b[0;34m'rb'\u001b[0m\u001b[0;34m)\u001b[0m\u001b[0;34m)\u001b[0m\u001b[0;34m\u001b[0m\u001b[0;34m\u001b[0m\u001b[0m\n\u001b[1;32m     13\u001b[0m \u001b[0;34m\u001b[0m\u001b[0m\n",
            "\u001b[0;31mFileNotFoundError\u001b[0m: [Errno 2] No such file or directory: 'movies.pkl'"
          ]
        }
      ]
    }
  ],
  "metadata": {
    "colab": {
      "provenance": [],
      "include_colab_link": true
    },
    "kernelspec": {
      "display_name": "Python 3",
      "name": "python3"
    }
  },
  "nbformat": 4,
  "nbformat_minor": 0
}